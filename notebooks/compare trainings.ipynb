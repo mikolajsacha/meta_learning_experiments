{
 "cells": [
  {
   "cell_type": "code",
   "execution_count": null,
   "metadata": {},
   "outputs": [],
   "source": [
    "import pandas as pd \n",
    "import os\n",
    "\n",
    "dirs = ['../log/{} eigenvals'.format(i) for i in range(6)]\n",
    "\n",
    "data = []\n",
    "\n",
    "for i, d in enumerate(dirs):\n",
    "    training_shape_df = pd.read_hdf(os.path.join(d, 'learner_training_shape.h5'))\n",
    "    data.append(training_shape_df)"
   ]
  },
  {
   "cell_type": "code",
   "execution_count": null,
   "metadata": {
    "scrolled": false
   },
   "outputs": [],
   "source": [
    "import matplotlib.pyplot as plt\n",
    "\n",
    "plt.rcParams[\"figure.figsize\"] = (16,10)\n",
    "    \n",
    "for i, d in enumerate(data):\n",
    "    plt.plot(d['train_loss'], label='{} eigenvals'.format(i))\n",
    "    \n",
    "plt.title(\"Average train loss during training\")\n",
    "plt.legend()\n",
    "plt.show()\n",
    "\n",
    "for i, d in enumerate(data):\n",
    "    plt.plot(d['valid_loss'], label='{} eigenvals'.format(i))\n",
    "    \n",
    "plt.title(\"Average valid loss during training\")\n",
    "plt.legend()\n",
    "plt.show()\n",
    "\n",
    "\n",
    "for i, d in enumerate(data):\n",
    "    plt.plot(d['train_acc'], label='{} eigenvals'.format(i))\n",
    "    \n",
    "plt.title(\"Average train acc during training\")\n",
    "plt.legend()\n",
    "plt.show()\n",
    "\n",
    "for i, d in enumerate(data):\n",
    "    plt.plot(d['valid_acc'], label='{} eigenvals'.format(i))\n",
    "    \n",
    "plt.title(\"Average valid acc during training\")\n",
    "plt.legend()\n",
    "plt.show()\n",
    "\n",
    "for i, d in enumerate(data):\n",
    "    plt.plot(d['hessian_eigen'], label='{} eigenvals'.format(i))\n",
    "    \n",
    "plt.title(\"Average of 3 biggest eigenvalues of hessian\")\n",
    "plt.legend()\n",
    "plt.show()\n"
   ]
  },
  {
   "cell_type": "code",
   "execution_count": null,
   "metadata": {},
   "outputs": [],
   "source": []
  }
 ],
 "metadata": {
  "kernelspec": {
   "display_name": "Python [conda env:meta_learning]",
   "language": "python",
   "name": "conda-env-meta_learning-py"
  },
  "language_info": {
   "codemirror_mode": {
    "name": "ipython",
    "version": 3
   },
   "file_extension": ".py",
   "mimetype": "text/x-python",
   "name": "python",
   "nbconvert_exporter": "python",
   "pygments_lexer": "ipython3",
   "version": "3.5.4"
  }
 },
 "nbformat": 4,
 "nbformat_minor": 2
}
